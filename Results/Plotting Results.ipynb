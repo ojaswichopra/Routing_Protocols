{
 "cells": [
  {
   "cell_type": "code",
   "execution_count": 1,
   "id": "751186ee",
   "metadata": {},
   "outputs": [
    {
     "name": "stderr",
     "output_type": "stream",
     "text": [
      "/opt/anaconda3/lib/python3.9/site-packages/pandas/core/computation/expressions.py:21: UserWarning: Pandas requires version '2.8.4' or newer of 'numexpr' (version '2.8.3' currently installed).\n",
      "  from pandas.core.computation.check import NUMEXPR_INSTALLED\n",
      "/opt/anaconda3/lib/python3.9/site-packages/pandas/core/arrays/masked.py:60: UserWarning: Pandas requires version '1.3.6' or newer of 'bottleneck' (version '1.3.5' currently installed).\n",
      "  from pandas.core import (\n"
     ]
    }
   ],
   "source": [
    "import pandas as pd\n",
    "import numpy as np"
   ]
  },
  {
   "cell_type": "code",
   "execution_count": 3,
   "id": "77466938",
   "metadata": {},
   "outputs": [],
   "source": [
    "AODV_star = pd.read_csv('AODV-star.csv')\n",
    "AODV_mesh = pd.read_csv('AODV-mesh.csv')\n",
    "DSDV_star = pd.read_csv('DSDV-star.csv')\n",
    "DSDV_mesh= pd.read_csv('DSDV-mesh.csv')\n",
    "OLSR_star = pd.read_csv('OLSR-star.csv')\n",
    "OLSR_mesh = pd.read_csv('OLSR-mesh.csv')"
   ]
  },
  {
   "cell_type": "code",
   "execution_count": 14,
   "id": "e2fc7e7a",
   "metadata": {},
   "outputs": [
    {
     "data": {
      "text/html": [
       "<div>\n",
       "<style scoped>\n",
       "    .dataframe tbody tr th:only-of-type {\n",
       "        vertical-align: middle;\n",
       "    }\n",
       "\n",
       "    .dataframe tbody tr th {\n",
       "        vertical-align: top;\n",
       "    }\n",
       "\n",
       "    .dataframe thead th {\n",
       "        text-align: right;\n",
       "    }\n",
       "</style>\n",
       "<table border=\"1\" class=\"dataframe\">\n",
       "  <thead>\n",
       "    <tr style=\"text-align: right;\">\n",
       "      <th></th>\n",
       "      <th>FlowID</th>\n",
       "      <th>Source</th>\n",
       "      <th>Destination</th>\n",
       "      <th>TxBytes</th>\n",
       "      <th>RxBytes</th>\n",
       "      <th>Throughput(Mbps)</th>\n",
       "      <th>PacketDeliveryRatio(%)</th>\n",
       "      <th>EndToEndDelay(ms)</th>\n",
       "      <th>PacketsDropped</th>\n",
       "      <th>Jitter(ms)</th>\n",
       "    </tr>\n",
       "  </thead>\n",
       "  <tbody>\n",
       "    <tr>\n",
       "      <th>0</th>\n",
       "      <td>1</td>\n",
       "      <td>10.1.1.2</td>\n",
       "      <td>10.1.6.2</td>\n",
       "      <td>8416</td>\n",
       "      <td>8416</td>\n",
       "      <td>0.009608</td>\n",
       "      <td>100</td>\n",
       "      <td>8.7750</td>\n",
       "      <td>0</td>\n",
       "      <td>1.4022</td>\n",
       "    </tr>\n",
       "    <tr>\n",
       "      <th>1</th>\n",
       "      <td>2</td>\n",
       "      <td>10.1.1.1</td>\n",
       "      <td>10.1.1.2</td>\n",
       "      <td>48</td>\n",
       "      <td>48</td>\n",
       "      <td>0.184615</td>\n",
       "      <td>100</td>\n",
       "      <td>2.0800</td>\n",
       "      <td>0</td>\n",
       "      <td>0.0000</td>\n",
       "    </tr>\n",
       "    <tr>\n",
       "      <th>2</th>\n",
       "      <td>3</td>\n",
       "      <td>10.1.6.1</td>\n",
       "      <td>10.1.6.2</td>\n",
       "      <td>48</td>\n",
       "      <td>48</td>\n",
       "      <td>0.184615</td>\n",
       "      <td>100</td>\n",
       "      <td>2.0800</td>\n",
       "      <td>0</td>\n",
       "      <td>0.0000</td>\n",
       "    </tr>\n",
       "    <tr>\n",
       "      <th>3</th>\n",
       "      <td>4</td>\n",
       "      <td>10.1.1.2</td>\n",
       "      <td>10.1.1.1</td>\n",
       "      <td>30</td>\n",
       "      <td>30</td>\n",
       "      <td>0.117005</td>\n",
       "      <td>100</td>\n",
       "      <td>2.0512</td>\n",
       "      <td>0</td>\n",
       "      <td>0.0000</td>\n",
       "    </tr>\n",
       "    <tr>\n",
       "      <th>4</th>\n",
       "      <td>5</td>\n",
       "      <td>10.1.6.2</td>\n",
       "      <td>10.1.1.2</td>\n",
       "      <td>8416</td>\n",
       "      <td>8416</td>\n",
       "      <td>0.009624</td>\n",
       "      <td>100</td>\n",
       "      <td>7.3728</td>\n",
       "      <td>0</td>\n",
       "      <td>0.0000</td>\n",
       "    </tr>\n",
       "  </tbody>\n",
       "</table>\n",
       "</div>"
      ],
      "text/plain": [
       "   FlowID    Source Destination  TxBytes  RxBytes  Throughput(Mbps)  \\\n",
       "0       1  10.1.1.2    10.1.6.2     8416     8416          0.009608   \n",
       "1       2  10.1.1.1    10.1.1.2       48       48          0.184615   \n",
       "2       3  10.1.6.1    10.1.6.2       48       48          0.184615   \n",
       "3       4  10.1.1.2    10.1.1.1       30       30          0.117005   \n",
       "4       5  10.1.6.2    10.1.1.2     8416     8416          0.009624   \n",
       "\n",
       "   PacketDeliveryRatio(%)  EndToEndDelay(ms)  PacketsDropped  Jitter(ms)  \n",
       "0                     100             8.7750               0      1.4022  \n",
       "1                     100             2.0800               0      0.0000  \n",
       "2                     100             2.0800               0      0.0000  \n",
       "3                     100             2.0512               0      0.0000  \n",
       "4                     100             7.3728               0      0.0000  "
      ]
     },
     "execution_count": 14,
     "metadata": {},
     "output_type": "execute_result"
    }
   ],
   "source": [
    "AODV_star"
   ]
  },
  {
   "cell_type": "code",
   "execution_count": 15,
   "id": "8bfc555c",
   "metadata": {},
   "outputs": [],
   "source": [
    "import matplotlib.pyplot as plt\n",
    "\n",
    "# Calculate the average values for each metric\n",
    "protocols = ['AODV', 'DSDV', 'OLSR']\n",
    "topologies = ['star', 'mesh']\n",
    "\n",
    "throughput_averages = [\n",
    "    AODV_star['Throughput(Mbps)'].mean(), AODV_mesh['Throughput(Mbps)'].mean(),\n",
    "    DSDV_star['Throughput(Mbps)'].mean(), DSDV_mesh['Throughput(Mbps)'].mean(),\n",
    "    OLSR_star['Throughput(Mbps)'].mean(), OLSR_mesh['Throughput(Mbps)'].mean()\n",
    "]\n",
    "\n",
    "delay_averages = [\n",
    "    AODV_star['EndToEndDelay(ms)'].mean(), AODV_mesh['EndToEndDelay(ms)'].mean(),\n",
    "    DSDV_star['EndToEndDelay(ms)'].mean(), DSDV_mesh['EndToEndDelay(ms)'].mean(),\n",
    "    OLSR_star['EndToEndDelay(ms)'].mean(), OLSR_mesh['EndToEndDelay(ms)'].mean()\n",
    "]"
   ]
  },
  {
   "cell_type": "code",
   "execution_count": 20,
   "id": "961d1070",
   "metadata": {},
   "outputs": [
    {
     "data": {
      "image/png": "[encoded data removed]",
      "text/plain": [
       "<Figure size 1400x600 with 2 Axes>"
      ]
     },
     "metadata": {},
     "output_type": "display_data"
    }
   ],
   "source": [
    "# Create bar plots\n",
    "x = np.arange(len(protocols))  # the label locations\n",
    "width = 0.35  # the width of the bars\n",
    "\n",
    "fig, (ax1, ax2) = plt.subplots(1, 2, figsize=(14, 6))\n",
    "\n",
    "# Plot for Throughput\n",
    "rects1 = ax1.bar(x - width/2, throughput_averages[::2], width, label='Star')\n",
    "rects2 = ax1.bar(x + width/2, throughput_averages[1::2], width, label='Mesh')\n",
    "\n",
    "ax1.set_xlabel('Protocols')\n",
    "ax1.set_ylabel('Average Throughput (Mbps)')\n",
    "ax1.set_title('Average Throughput by Protocol and Topology')\n",
    "ax1.set_xticks(x)\n",
    "ax1.set_xticklabels(protocols)\n",
    "ax1.legend()\n",
    "\n",
    "# Plot for End-to-End Delay\n",
    "rects3 = ax2.bar(x - width/2, delay_averages[::2], width, label='Star')\n",
    "rects4 = ax2.bar(x + width/2, delay_averages[1::2], width, label='Mesh')\n",
    "\n",
    "ax2.set_xlabel('Protocols')\n",
    "ax2.set_ylabel('Average End-to-End Delay (ms)')\n",
    "ax2.set_title('Average End-to-End Delay by Protocol and Topology')\n",
    "ax2.set_xticks(x)\n",
    "ax2.set_xticklabels(protocols)\n",
    "ax2.legend()\n",
    "\n",
    "# Show the plots\n",
    "plt.tight_layout()\n",
    "plt.savefig('Parameter_comparison.png')\n",
    "plt.show()"
   ]
  },
  {
   "cell_type": "code",
   "execution_count": null,
   "id": "3e9c3945",
   "metadata": {},
   "outputs": [],
   "source": []
  },
  {
   "cell_type": "code",
   "execution_count": null,
   "id": "df0730f4",
   "metadata": {},
   "outputs": [],
   "source": []
  }
 ],
 "metadata": {
  "kernelspec": {
   "display_name": "Python 3 (ipykernel)",
   "language": "python",
   "name": "python3"
  },
  "language_info": {
   "codemirror_mode": {
    "name": "ipython",
    "version": 3
   },
   "file_extension": ".py",
   "mimetype": "text/x-python",
   "name": "python",
   "nbconvert_exporter": "python",
   "pygments_lexer": "ipython3",
   "version": "3.9.13"
  }
 },
 "nbformat": 4,
 "nbformat_minor": 5
}
